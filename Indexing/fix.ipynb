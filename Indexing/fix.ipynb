{
 "cells": [
  {
   "cell_type": "markdown",
   "metadata": {},
   "source": [
    "For each SELECTED result, create snippet..."
   ]
  },
  {
   "cell_type": "markdown",
   "metadata": {},
   "source": [
    "# Snippet should include:\n",
    "1. document title\n",
    "2. 2 sentences from doc with highest COSINE SIMILARITY w/respect to q. \n"
   ]
  },
  {
   "cell_type": "code",
   "execution_count": 1,
   "metadata": {},
   "outputs": [],
   "source": [
    "from classes.inverted_index import inverted_index\n",
    "from classes.persist_index_memory import persist_index_memory\n",
    "from classes.utilities import doc_utilities\n",
    "from classes.preprocessing import preprocessing\n"
   ]
  },
  {
   "cell_type": "markdown",
   "metadata": {},
   "source": [
    "# 1. load dataset"
   ]
  },
  {
   "cell_type": "code",
   "execution_count": 2,
   "metadata": {},
   "outputs": [
    {
     "name": "stderr",
     "output_type": "stream",
     "text": [
      "[nltk_data] Downloading package stopwords to\n",
      "[nltk_data]     C:\\Users\\gerar\\AppData\\Roaming\\nltk_data...\n",
      "[nltk_data]   Package stopwords is already up-to-date!\n",
      "[nltk_data] Downloading package stopwords to\n",
      "[nltk_data]     C:\\Users\\gerar\\AppData\\Roaming\\nltk_data...\n",
      "[nltk_data]   Package stopwords is already up-to-date!\n",
      "12700it [01:01, 207.76it/s]\n"
     ]
    }
   ],
   "source": [
    "u = doc_utilities()\n",
    "u.read_data_set(file='data/12000_docs.p')\n",
    "memory_unit = persist_index_memory()\n",
    "u.process_documents_for_indexing()\n",
    "i_i = inverted_index(memory_unit)\n",
    "i_i.create_index(collection=u.get_collection_json(),\n",
    "                     process_text=True)"
   ]
  },
  {
   "cell_type": "markdown",
   "metadata": {},
   "source": [
    "# 2. create index from dataset"
   ]
  },
  {
   "cell_type": "code",
   "execution_count": 3,
   "metadata": {},
   "outputs": [
    {
     "name": "stdout",
     "output_type": "stream",
     "text": [
      "Index size = 94679\n"
     ]
    }
   ],
   "source": [
    "print(\"Index size = {}\".format(i_i.get_index_size()))\n",
    "# This should be roughly 100k tokens"
   ]
  },
  {
   "cell_type": "markdown",
   "metadata": {},
   "source": [
    "# 3. given query, find relevant results "
   ]
  },
  {
   "cell_type": "code",
   "execution_count": 4,
   "metadata": {},
   "outputs": [],
   "source": [
    "def return_matches(CR={}, len_DC=1699999):\n",
    "    doc_first = {}\n",
    "    \n",
    "    # better way of generating pertinent indices?\n",
    "    for i in range(1, len_DC+1):\n",
    "        doc_first[i] = []    \n",
    "\n",
    "    for token in CR:\n",
    "        for val in CR[token]:\n",
    "            match = ('match: ' + str(token), val.frequency)\n",
    "            doc_first[val.docId].append(match)\n",
    "    return {k: doc_first[k] for k in doc_first if len(doc_first[k]) > 0}\n",
    "\n",
    "def match_scaling(CR = {}, match_num = int):\n",
    "    return {k: CR[k] for k in CR if len(CR[k]) == match_num}"
   ]
  },
  {
   "cell_type": "code",
   "execution_count": 5,
   "metadata": {},
   "outputs": [
    {
     "name": "stderr",
     "output_type": "stream",
     "text": [
      "[nltk_data] Downloading package stopwords to\n",
      "[nltk_data]     C:\\Users\\gerar\\AppData\\Roaming\\nltk_data...\n",
      "[nltk_data]   Package stopwords is already up-to-date!\n"
     ]
    },
    {
     "name": "stdout",
     "output_type": "stream",
     "text": [
      "Query pre processed = test red\n"
     ]
    }
   ],
   "source": [
    "query = \"test rEd!\"\n",
    "p = preprocessing()\n",
    "text = p.remove_punctuation(text=query)\n",
    "tokens = p.tokenize(text=text)\n",
    "tokens = p.remove_stopwords(tokens=tokens)\n",
    "tokens = p.remove_capitalization(tokens=tokens)\n",
    "q = p.stem(tokens=tokens)\n",
    "q = ' '.join(q)\n",
    "print('Query pre processed = {}'.format(q))\n",
    "CR = i_i.lookup_query(q)"
   ]
  },
  {
   "cell_type": "code",
   "execution_count": 6,
   "metadata": {},
   "outputs": [],
   "source": [
    "CR = return_matches(CR)"
   ]
  },
  {
   "cell_type": "code",
   "execution_count": 7,
   "metadata": {},
   "outputs": [],
   "source": [
    "# select resources that match every token from query\n",
    "CR = match_scaling(CR, len(q.split()))\n",
    "CR = match_scaling(CR, 2)"
   ]
  },
  {
   "cell_type": "code",
   "execution_count": 8,
   "metadata": {},
   "outputs": [
    {
     "data": {
      "text/plain": [
       "{3918: [('match: test', 3), ('match: red', 3)],\n",
       " 5128: [('match: test', 1), ('match: red', 2)],\n",
       " 6680: [('match: test', 1), ('match: red', 1)],\n",
       " 6882: [('match: test', 1), ('match: red', 1)],\n",
       " 8081: [('match: test', 4), ('match: red', 1)],\n",
       " 10650: [('match: test', 1), ('match: red', 2)],\n",
       " 11014: [('match: test', 3), ('match: red', 1)]}"
      ]
     },
     "execution_count": 8,
     "metadata": {},
     "output_type": "execute_result"
    }
   ],
   "source": [
    "CR"
   ]
  },
  {
   "cell_type": "markdown",
   "metadata": {},
   "source": [
    "# 4. rank relevant results"
   ]
  },
  {
   "cell_type": "code",
   "execution_count": 9,
   "metadata": {},
   "outputs": [],
   "source": [
    "from classes.ranking import ranking\n",
    "\n",
    "r_ranking = ranking()\n",
    "resources = list(CR.keys())"
   ]
  },
  {
   "cell_type": "code",
   "execution_count": 10,
   "metadata": {},
   "outputs": [
    {
     "data": {
      "text/plain": [
       "[3918, 5128, 6680, 6882, 8081, 10650, 11014]"
      ]
     },
     "execution_count": 10,
     "metadata": {},
     "output_type": "execute_result"
    }
   ],
   "source": [
    "resources"
   ]
  },
  {
   "cell_type": "code",
   "execution_count": 11,
   "metadata": {},
   "outputs": [
    {
     "data": {
      "text/plain": [
       "dict_items([(3918, [('match: test', 3), ('match: red', 3)]), (5128, [('match: test', 1), ('match: red', 2)]), (6680, [('match: test', 1), ('match: red', 1)]), (6882, [('match: test', 1), ('match: red', 1)]), (8081, [('match: test', 4), ('match: red', 1)]), (10650, [('match: test', 1), ('match: red', 2)]), (11014, [('match: test', 3), ('match: red', 1)])])"
      ]
     },
     "execution_count": 11,
     "metadata": {},
     "output_type": "execute_result"
    }
   ],
   "source": [
    "CR.items()"
   ]
  },
  {
   "cell_type": "code",
   "execution_count": 12,
   "metadata": {},
   "outputs": [
    {
     "data": {
      "text/plain": [
       "['test', 'red']"
      ]
     },
     "execution_count": 12,
     "metadata": {},
     "output_type": "execute_result"
    }
   ],
   "source": [
    "processed_query_tokens = q.split()\n",
    "processed_query_tokens"
   ]
  },
  {
   "cell_type": "code",
   "execution_count": 13,
   "metadata": {},
   "outputs": [],
   "source": [
    "# this step is necessary for idf\n",
    "i_i.create_term_document_matrix()"
   ]
  },
  {
   "cell_type": "code",
   "execution_count": 14,
   "metadata": {},
   "outputs": [
    {
     "name": "stderr",
     "output_type": "stream",
     "text": [
      "100%|████████████████████████████████████████████████████████████████████████████████████████████| 7/7 [00:00<?, ?it/s]\n"
     ]
    }
   ],
   "source": [
    "max_freq = r_ranking.get_max_frequencies(index=CR) "
   ]
  },
  {
   "cell_type": "code",
   "execution_count": 15,
   "metadata": {},
   "outputs": [],
   "source": [
    "i_i.storage.max_frequency_terms_per_doc = max_freq"
   ]
  },
  {
   "cell_type": "code",
   "execution_count": 16,
   "metadata": {},
   "outputs": [
    {
     "data": {
      "text/plain": [
       "[3, 2, 1, 1, 4, 2, 3]"
      ]
     },
     "execution_count": 16,
     "metadata": {},
     "output_type": "execute_result"
    }
   ],
   "source": [
    "i_i.storage.max_frequency_terms_per_doc"
   ]
  },
  {
   "cell_type": "code",
   "execution_count": 17,
   "metadata": {},
   "outputs": [
    {
     "data": {
      "text/plain": [
       "[3918, 5128, 6680, 6882, 8081, 10650, 11014]"
      ]
     },
     "execution_count": 17,
     "metadata": {},
     "output_type": "execute_result"
    }
   ],
   "source": [
    "resources"
   ]
  },
  {
   "cell_type": "code",
   "execution_count": 18,
   "metadata": {},
   "outputs": [
    {
     "name": "stderr",
     "output_type": "stream",
     "text": [
      "[nltk_data] Downloading package stopwords to\n",
      "[nltk_data]     C:\\Users\\gerar\\AppData\\Roaming\\nltk_data...\n",
      "[nltk_data]   Package stopwords is already up-to-date!\n"
     ]
    },
    {
     "name": "stdout",
     "output_type": "stream",
     "text": [
      "Id =  0\n",
      "Id =  1\n",
      "Id =  2\n",
      "Id =  3\n",
      "Id =  4\n",
      "Id =  5\n",
      "Id =  6\n"
     ]
    }
   ],
   "source": [
    "res = r_ranking.relevance_ranking(query = 'state nation disput local employ the',\n",
    "                           num_results=5,\n",
    "                            index=i_i.index,\n",
    "                            resources=resources,\n",
    "                            max_freq=i_i.storage.max_frequency_terms_per_doc,\n",
    "                            N=len(i_i.storage.index),\n",
    "                            term_doc_matrix=i_i.doc_term_matrix_all)"
   ]
  },
  {
   "cell_type": "markdown",
   "metadata": {},
   "source": [
    "# calculate cosine similarity between every 'sentence' in doc and q"
   ]
  },
  {
   "cell_type": "markdown",
   "metadata": {},
   "source": [
    "## retrieve original, unprocessed doc-string"
   ]
  },
  {
   "cell_type": "code",
   "execution_count": 22,
   "metadata": {},
   "outputs": [],
   "source": [
    "original = i_i.storage.get(1)['content']"
   ]
  },
  {
   "cell_type": "code",
   "execution_count": 23,
   "metadata": {},
   "outputs": [
    {
     "data": {
      "text/plain": [
       "\"Moroccoâ\\x80\\x93Saudi Arabia relations\\n\\nMoroccanâ\\x80\\x93Saudi Arabian relations refers to the current and historical relations between Morocco and Saudi Arabia. Morocco has an embassy in Riyadh and Saudi Arabia has an embassy in Rabat.\\n\\nBoth two nations have a long and traditional friendly relations based on many historical commons. Both Morocco and Saudi Arabia are two monarch states ruled by respective families, the Alaouites and the Al-Sauds, adhere to Sunni Islam, fear of growing Iranian and Shiite influence and their relationship is mostly described as excellent.\\n\\nMorocco and Saudi Arabia have together taken steps to curb Iranian influence in the Arab world, although Morocco has a moderate approach to Iran while Saudi Arabia is more cautious and hostile of Iran.\\n\\nSaudi Arabia has recently supported Morocco over the dispute of Western Sahara and doesn't recognize the legitimacy of Sahrawi Arab Democratic Republic, through the Arab League. Saudi Arabia, on the other side, also helps funding several projects in the region with support from Moroccan authorities.\\n\\nDuring the current Yemeni Civil War, Morocco participates as part of the anti-Houthi coalition led by Saudi Arabia, with 6 planes and 1,500 troops.\\n\\nMorocco has taken neutral stance in the conflict, hoping for a better resolution that benefit Qatar and Saudi Arabia, the former had participated together with Morocco in anti-Houthi campaign. Morocco even offers to act as a mediator to slow the tensions between two Gulf Arab states.\""
      ]
     },
     "execution_count": 23,
     "metadata": {},
     "output_type": "execute_result"
    }
   ],
   "source": [
    "original"
   ]
  },
  {
   "cell_type": "markdown",
   "metadata": {},
   "source": [
    "## get doc title"
   ]
  },
  {
   "cell_type": "code",
   "execution_count": 24,
   "metadata": {},
   "outputs": [],
   "source": [
    "'''\n",
    "cool python trick:\n",
    "https://stackoverflow.com/questions/31426095/assign-multiple-values-of-a-list\n",
    "'''\n",
    "\n",
    "title, *text = original.split('\\n\\n')\n",
    "text = ' '.join(text)"
   ]
  },
  {
   "cell_type": "code",
   "execution_count": 25,
   "metadata": {},
   "outputs": [
    {
     "data": {
      "text/plain": [
       "'Moroccoâ\\x80\\x93Saudi Arabia relations'"
      ]
     },
     "execution_count": 25,
     "metadata": {},
     "output_type": "execute_result"
    }
   ],
   "source": [
    "title"
   ]
  },
  {
   "cell_type": "code",
   "execution_count": 26,
   "metadata": {},
   "outputs": [
    {
     "data": {
      "text/plain": [
       "'Moroccanâ\\x80\\x93Saudi Arabian relations refers to the current and historical relations between Morocco and Saudi Arabia.'"
      ]
     },
     "execution_count": 26,
     "metadata": {},
     "output_type": "execute_result"
    }
   ],
   "source": [
    "import nltk.data\n",
    "\n",
    "sent_split = nltk.data.load('tokenizers/punkt/english.pickle')\n",
    "sentences = sent_split.tokenize(text)\n",
    "sentences[0]"
   ]
  }
 ],
 "metadata": {
  "kernelspec": {
   "display_name": "Python 3",
   "language": "python",
   "name": "python3"
  },
  "language_info": {
   "codemirror_mode": {
    "name": "ipython",
    "version": 3
   },
   "file_extension": ".py",
   "mimetype": "text/x-python",
   "name": "python",
   "nbconvert_exporter": "python",
   "pygments_lexer": "ipython3",
   "version": "3.7.3"
  }
 },
 "nbformat": 4,
 "nbformat_minor": 2
}

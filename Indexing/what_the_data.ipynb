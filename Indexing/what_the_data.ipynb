{
 "cells": [
  {
   "cell_type": "code",
   "execution_count": 3,
   "metadata": {},
   "outputs": [],
   "source": [
    "from classes.utilities import doc_utilities\n",
    "\n",
    "u = doc_utilities"
   ]
  },
  {
   "cell_type": "code",
   "execution_count": null,
   "metadata": {},
   "outputs": [],
   "source": [
    "u.read_data_set(file='data/12000_docs.p')"
   ]
  },
  {
   "cell_type": "code",
   "execution_count": 5,
   "metadata": {},
   "outputs": [],
   "source": [
    "file = 'data/12000_docs.p'\n",
    "\n",
    "import pickle\n",
    "\n",
    "\n",
    "collection_maybe = pickle.load(open(\"{}\".format(file), \"rb\"))"
   ]
  },
  {
   "cell_type": "code",
   "execution_count": 6,
   "metadata": {},
   "outputs": [
    {
     "data": {
      "text/html": [
       "<div>\n",
       "<style scoped>\n",
       "    .dataframe tbody tr th:only-of-type {\n",
       "        vertical-align: middle;\n",
       "    }\n",
       "\n",
       "    .dataframe tbody tr th {\n",
       "        vertical-align: top;\n",
       "    }\n",
       "\n",
       "    .dataframe thead th {\n",
       "        text-align: right;\n",
       "    }\n",
       "</style>\n",
       "<table border=\"1\" class=\"dataframe\">\n",
       "  <thead>\n",
       "    <tr style=\"text-align: right;\">\n",
       "      <th></th>\n",
       "      <th>content</th>\n",
       "      <th>title</th>\n",
       "      <th>id</th>\n",
       "    </tr>\n",
       "  </thead>\n",
       "  <tbody>\n",
       "    <tr>\n",
       "      <td>0</td>\n",
       "      <td>MoroccoâSaudi Arabia relations\\n\\nMoroccanâ...</td>\n",
       "      <td>MoroccoâSaudi_Arabia_relations</td>\n",
       "      <td>1</td>\n",
       "    </tr>\n",
       "    <tr>\n",
       "      <td>1</td>\n",
       "      <td>Anthony United States Post Office\\n\\nThe Antho...</td>\n",
       "      <td>Anthony_United_States_Post_Office</td>\n",
       "      <td>2</td>\n",
       "    </tr>\n",
       "    <tr>\n",
       "      <td>2</td>\n",
       "      <td>Dumraon (Vidhan Sabha constituency)\\n\\nDumraon...</td>\n",
       "      <td>Dumraon__Vidhan_Sabha_constituency_</td>\n",
       "      <td>3</td>\n",
       "    </tr>\n",
       "    <tr>\n",
       "      <td>3</td>\n",
       "      <td>Chaker Khazaal\\n\\nChaker Khazaal (born 28 Sept...</td>\n",
       "      <td>Chaker_Khazaal</td>\n",
       "      <td>4</td>\n",
       "    </tr>\n",
       "    <tr>\n",
       "      <td>4</td>\n",
       "      <td>Vicente Pascual Pastor\\n\\nVicente Pascual Past...</td>\n",
       "      <td>Vicente_Pascual_Pastor</td>\n",
       "      <td>5</td>\n",
       "    </tr>\n",
       "    <tr>\n",
       "      <td>...</td>\n",
       "      <td>...</td>\n",
       "      <td>...</td>\n",
       "      <td>...</td>\n",
       "    </tr>\n",
       "    <tr>\n",
       "      <td>12695</td>\n",
       "      <td>Bishops Bridge, New South Wales\\n\\nBishops Bri...</td>\n",
       "      <td>Bishops_Bridge__New_South_Wales</td>\n",
       "      <td>12696</td>\n",
       "    </tr>\n",
       "    <tr>\n",
       "      <td>12696</td>\n",
       "      <td>Way Inc\\n\\nWay Inc is an online marketplace ba...</td>\n",
       "      <td>Way_Inc</td>\n",
       "      <td>12697</td>\n",
       "    </tr>\n",
       "    <tr>\n",
       "      <td>12697</td>\n",
       "      <td>Micromonospora profundi\\n\\nMicromonospora prof...</td>\n",
       "      <td>Micromonospora_profundi</td>\n",
       "      <td>12698</td>\n",
       "    </tr>\n",
       "    <tr>\n",
       "      <td>12698</td>\n",
       "      <td>Herbert Brown (ornithologist)\\n\\nHerbert Brown...</td>\n",
       "      <td>Herbert_Brown__ornithologist_</td>\n",
       "      <td>12699</td>\n",
       "    </tr>\n",
       "    <tr>\n",
       "      <td>12699</td>\n",
       "      <td>Michele Geraci\\n\\nMichele Geraci is currently ...</td>\n",
       "      <td>Michele_Geraci</td>\n",
       "      <td>12700</td>\n",
       "    </tr>\n",
       "  </tbody>\n",
       "</table>\n",
       "<p>12700 rows × 3 columns</p>\n",
       "</div>"
      ],
      "text/plain": [
       "                                                 content  \\\n",
       "0      MoroccoâSaudi Arabia relations\\n\\nMoroccanâ...   \n",
       "1      Anthony United States Post Office\\n\\nThe Antho...   \n",
       "2      Dumraon (Vidhan Sabha constituency)\\n\\nDumraon...   \n",
       "3      Chaker Khazaal\\n\\nChaker Khazaal (born 28 Sept...   \n",
       "4      Vicente Pascual Pastor\\n\\nVicente Pascual Past...   \n",
       "...                                                  ...   \n",
       "12695  Bishops Bridge, New South Wales\\n\\nBishops Bri...   \n",
       "12696  Way Inc\\n\\nWay Inc is an online marketplace ba...   \n",
       "12697  Micromonospora profundi\\n\\nMicromonospora prof...   \n",
       "12698  Herbert Brown (ornithologist)\\n\\nHerbert Brown...   \n",
       "12699  Michele Geraci\\n\\nMichele Geraci is currently ...   \n",
       "\n",
       "                                     title     id  \n",
       "0         MoroccoâSaudi_Arabia_relations      1  \n",
       "1        Anthony_United_States_Post_Office      2  \n",
       "2      Dumraon__Vidhan_Sabha_constituency_      3  \n",
       "3                           Chaker_Khazaal      4  \n",
       "4                   Vicente_Pascual_Pastor      5  \n",
       "...                                    ...    ...  \n",
       "12695      Bishops_Bridge__New_South_Wales  12696  \n",
       "12696                              Way_Inc  12697  \n",
       "12697              Micromonospora_profundi  12698  \n",
       "12698        Herbert_Brown__ornithologist_  12699  \n",
       "12699                       Michele_Geraci  12700  \n",
       "\n",
       "[12700 rows x 3 columns]"
      ]
     },
     "execution_count": 6,
     "metadata": {},
     "output_type": "execute_result"
    }
   ],
   "source": [
    "collection_maybe"
   ]
  },
  {
   "cell_type": "code",
   "execution_count": 8,
   "metadata": {},
   "outputs": [],
   "source": [
    "json_collection = collection_maybe.to_dict('records')"
   ]
  },
  {
   "cell_type": "code",
   "execution_count": 10,
   "metadata": {},
   "outputs": [
    {
     "data": {
      "text/plain": [
       "{'content': \"Moroccoâ\\x80\\x93Saudi Arabia relations\\n\\nMoroccanâ\\x80\\x93Saudi Arabian relations refers to the current and historical relations between Morocco and Saudi Arabia. Morocco has an embassy in Riyadh and Saudi Arabia has an embassy in Rabat.\\n\\nBoth two nations have a long and traditional friendly relations based on many historical commons. Both Morocco and Saudi Arabia are two monarch states ruled by respective families, the Alaouites and the Al-Sauds, adhere to Sunni Islam, fear of growing Iranian and Shiite influence and their relationship is mostly described as excellent.\\n\\nMorocco and Saudi Arabia have together taken steps to curb Iranian influence in the Arab world, although Morocco has a moderate approach to Iran while Saudi Arabia is more cautious and hostile of Iran.\\n\\nSaudi Arabia has recently supported Morocco over the dispute of Western Sahara and doesn't recognize the legitimacy of Sahrawi Arab Democratic Republic, through the Arab League. Saudi Arabia, on the other side, also helps funding several projects in the region with support from Moroccan authorities.\\n\\nDuring the current Yemeni Civil War, Morocco participates as part of the anti-Houthi coalition led by Saudi Arabia, with 6 planes and 1,500 troops.\\n\\nMorocco has taken neutral stance in the conflict, hoping for a better resolution that benefit Qatar and Saudi Arabia, the former had participated together with Morocco in anti-Houthi campaign. Morocco even offers to act as a mediator to slow the tensions between two Gulf Arab states.\",\n",
       " 'title': 'Moroccoâ\\x80\\x93Saudi_Arabia_relations',\n",
       " 'id': 1}"
      ]
     },
     "execution_count": 10,
     "metadata": {},
     "output_type": "execute_result"
    }
   ],
   "source": [
    "json_collection[0]"
   ]
  },
  {
   "cell_type": "code",
   "execution_count": 11,
   "metadata": {},
   "outputs": [
    {
     "name": "stderr",
     "output_type": "stream",
     "text": [
      "persist_index_memory.py INFO: 2019-11-08 10:05:51,085: Instantiating storage object\n"
     ]
    }
   ],
   "source": [
    "from classes.persist_index_memory import persist_index_memory\n",
    "\n",
    "memory_unit = persist_index_memory()"
   ]
  },
  {
   "cell_type": "code",
   "execution_count": 12,
   "metadata": {},
   "outputs": [
    {
     "name": "stderr",
     "output_type": "stream",
     "text": [
      "[nltk_data] Downloading package stopwords to /home/david/nltk_data...\n",
      "[nltk_data]   Package stopwords is already up-to-date!\n",
      "inverted_index.py INFO: 2019-11-08 10:06:03,854: Instantiating inverted index object\n"
     ]
    }
   ],
   "source": [
    "from classes.inverted_index import inverted_index\n",
    "\n",
    "i_i = inverted_index(memory_unit)"
   ]
  },
  {
   "cell_type": "code",
   "execution_count": 14,
   "metadata": {},
   "outputs": [
    {
     "name": "stderr",
     "output_type": "stream",
     "text": [
      "12700it [00:23, 538.01it/s]\n"
     ]
    }
   ],
   "source": [
    "i_i.create_index(collection=json_collection, process_text=True)"
   ]
  },
  {
   "cell_type": "code",
   "execution_count": null,
   "metadata": {},
   "outputs": [],
   "source": []
  }
 ],
 "metadata": {
  "kernelspec": {
   "display_name": "Python 3",
   "language": "python",
   "name": "python3"
  },
  "language_info": {
   "codemirror_mode": {
    "name": "ipython",
    "version": 3
   },
   "file_extension": ".py",
   "mimetype": "text/x-python",
   "name": "python",
   "nbconvert_exporter": "python",
   "pygments_lexer": "ipython3",
   "version": "3.7.4"
  }
 },
 "nbformat": 4,
 "nbformat_minor": 2
}

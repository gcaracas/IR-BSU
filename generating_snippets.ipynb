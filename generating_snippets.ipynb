{
 "cells": [
  {
   "cell_type": "markdown",
   "metadata": {},
   "source": [
    "For each SELECTED result, create snippet..."
   ]
  },
  {
   "cell_type": "markdown",
   "metadata": {},
   "source": [
    "# Snippet should include:\n",
    "1. document title\n",
    "2. 2 sentences from doc with highest COSINE SIMILARITY w/respect to q. \n"
   ]
  },
  {
   "cell_type": "markdown",
   "metadata": {},
   "source": [
    "Which is an array of size 5 of this [ (docID, TF-IDF) ]\n",
    "\n",
    "Retrieve ranked results from Gerardo's ranker"
   ]
  },
  {
   "cell_type": "code",
   "execution_count": 9,
   "metadata": {},
   "outputs": [],
   "source": [
    "'''\n",
    "load original dataset, the doc collection \n",
    "'''\n",
    "\n",
    "import pandas as pd\n",
    "\n",
    "prefix = \"~/Documents/Classes/CS537_IR/project1/chunks/\"\n",
    "sample_path = prefix + 'chunk_17.pkl' \n",
    "doc_collection = pd.read_pickle(sample_path)\n",
    "DC = doc_collection.to_dict('records')\n",
    "# use pandas read_csv(skiprows=FUNCTION)"
   ]
  },
  {
   "cell_type": "code",
   "execution_count": 3,
   "metadata": {},
   "outputs": [],
   "source": [
    "# [(docID, TF-IDF)]\n",
    "res = [(2, 48.44939633024195), (1, 14.534818899072588), (4, 9.084261811920367), (3, 0.0), (5, 0.0)]"
   ]
  },
  {
   "cell_type": "code",
   "execution_count": 8,
   "metadata": {},
   "outputs": [
    {
     "name": "stdout",
     "output_type": "stream",
     "text": [
      "5 48.44939633024195\n",
      "5 14.534818899072588\n",
      "5 9.084261811920367\n",
      "5 0.0\n",
      "5 0.0\n"
     ]
    }
   ],
   "source": [
    "for result in res:\n",
    "    docId = result[0]\n",
    "    weight = result[1]\n",
    "    print(rank, weight)"
   ]
  },
  {
   "cell_type": "code",
   "execution_count": 11,
   "metadata": {},
   "outputs": [
    {
     "data": {
      "text/plain": [
       "{'content': \"Telephone numbers in Curaçao and the Caribbean Netherlands\\n\\nCountry Code: +599International Call Prefix: 00\\n\\nThe country code +599 was assigned to the Netherlands Antilles (dissolved in 2010), and is now in use by Curaçao and the Caribbean Netherlands (Bonaire, Sint Eustatius and Saba).\\n\\nAruba and Sint Maarten, also former parts of the Netherlands Antilles, discontinued using the code in 1986 and 2011 respectively. Aruba now uses country code +297, and Sint Maarten uses the North American Numbering Plan (NANP) country code +1 with area code 721.\\n\\nOriginally each island had an area code each with the length of the local numbering varying from island to island (Curaçao had six while Bonaire had only four), however beginning in 1999, the numbers were modified so that each local number was seven digits long. This change left the islands without any area codes, except for Curaçao, which has the area code of 9 along with the seven digit local number.\\n\\nOn October 2, 2009, the North American Numbering Plan Administration (NANPA) announced that it had approved the request of Sint Maarten's government to join the NANP and had assigned the territory area code 721. Effective September 30, 2011, Sint Maarten's country code changed to the NANP standard of +1. A permissive dialing period of one full year (to September 30, 2012) was in place when both area code 721 and +599 could be used. Use of +1-721 is now mandatory; a recorded message reminding callers to the +599 numbers to use +1-721 remained active until September 30, 2013.\",\n",
       " 'title': 'Telephone_numbers_in_Curaçao_and_the_Caribbean_Netherlands',\n",
       " 'id': 1600006}"
      ]
     },
     "execution_count": 11,
     "metadata": {},
     "output_type": "execute_result"
    }
   ],
   "source": [
    "result = DC[docId]\n",
    "result"
   ]
  },
  {
   "cell_type": "markdown",
   "metadata": {},
   "source": [
    "# get doc title"
   ]
  },
  {
   "cell_type": "code",
   "execution_count": 14,
   "metadata": {},
   "outputs": [],
   "source": [
    "'''\n",
    "cool python trick:\n",
    "https://stackoverflow.com/questions/31426095/assign-multiple-values-of-a-list\n",
    "'''\n",
    "\n",
    "title, *text = result['content'].split('\\n\\n')\n",
    "text = ' '.join(text)"
   ]
  },
  {
   "cell_type": "markdown",
   "metadata": {},
   "source": [
    "# calculate cosine similarity between every 'sentence' in doc and q"
   ]
  },
  {
   "cell_type": "markdown",
   "metadata": {},
   "source": [
    "## retrieve original, unprocessed doc-string"
   ]
  },
  {
   "cell_type": "code",
   "execution_count": 17,
   "metadata": {},
   "outputs": [
    {
     "data": {
      "text/plain": [
       "'Country Code: +599International Call Prefix: 00 The country code +599 was assigned to the Netherlands Antilles (dissolved in 2010), and is now in use by Curaçao and the Caribbean Netherlands (Bonaire, Sint Eustatius and Saba).'"
      ]
     },
     "execution_count": 17,
     "metadata": {},
     "output_type": "execute_result"
    }
   ],
   "source": [
    "import nltk.data\n",
    "\n",
    "sent_split = nltk.data.load('tokenizers/punkt/english.pickle')\n",
    "sentences = sent_split.tokenize(text)\n",
    "\n",
    "# SAVE THIS VARIABLE FOR DISPLAY PURPOSES!\n",
    "sentences[0]"
   ]
  },
  {
   "cell_type": "code",
   "execution_count": 18,
   "metadata": {},
   "outputs": [
    {
     "name": "stderr",
     "output_type": "stream",
     "text": [
      "[nltk_data] Downloading package stopwords to /home/david/nltk_data...\n",
      "[nltk_data]   Package stopwords is already up-to-date!\n"
     ]
    }
   ],
   "source": [
    "import nltk\n",
    "from nltk.stem import PorterStemmer\n",
    "from nltk.tokenize import TreebankWordTokenizer\n",
    "from nltk.tokenize import TweetTokenizer\n",
    "from nltk.tokenize import RegexpTokenizer\n",
    "from nltk.corpus import stopwords\n",
    "import re\n",
    "import logging\n",
    "\n",
    "nltk.download('stopwords')\n",
    "stemer = PorterStemmer()\n",
    "tokenizer = TweetTokenizer()\n",
    "\n",
    "def stem(tokens=''):\n",
    "    return [stemer.stem(w) for w in tokens]\n",
    "def tokenize(text=''):\n",
    "    return tokenizer.tokenize(text)\n",
    "def remove_stopwords(tokens=[]):\n",
    "    stop_words = set(stopwords.words('english'))\n",
    "    return [w for w in tokens if not w in stop_words]\n",
    "def remove_capitalization(tokens=[]):\n",
    "    return [w.lower() for w in tokens]\n",
    "def remove_punctuation(text=''):\n",
    "    return re.sub(r'[^\\w\\s]', '', text)\n",
    "def preprocess(text=''):\n",
    "    # Remove punctuation from the text.\n",
    "    text = remove_punctuation(text=text)\n",
    "    # Tokenize\n",
    "    tokens = tokenize(text=text)\n",
    "    # Remove stop words\n",
    "    tokens = remove_stopwords(tokens=tokens)\n",
    "    # Remove capitalization\n",
    "    tokens = remove_capitalization(tokens=tokens)\n",
    "    # Stem terms\n",
    "    tokens = stem(tokens=tokens)\n",
    "    return tokens"
   ]
  },
  {
   "cell_type": "markdown",
   "metadata": {},
   "source": [
    "## pre-process ranked CR sentences same way as index / query"
   ]
  },
  {
   "cell_type": "code",
   "execution_count": 19,
   "metadata": {},
   "outputs": [
    {
     "data": {
      "text/plain": [
       "['countri',\n",
       " 'code',\n",
       " '599intern',\n",
       " 'call',\n",
       " 'prefix',\n",
       " '00',\n",
       " 'the',\n",
       " 'countri',\n",
       " 'code',\n",
       " '599',\n",
       " 'assign',\n",
       " 'netherland',\n",
       " 'antil',\n",
       " 'dissolv',\n",
       " '2010',\n",
       " 'use',\n",
       " 'curaçao',\n",
       " 'caribbean',\n",
       " 'netherland',\n",
       " 'bonair',\n",
       " 'sint',\n",
       " 'eustatiu',\n",
       " 'saba']"
      ]
     },
     "execution_count": 19,
     "metadata": {},
     "output_type": "execute_result"
    }
   ],
   "source": [
    "sent_tokens = [preprocess(sentences[i]) for i in range(len(sentences))]\n",
    "sent_tokens[0]"
   ]
  },
  {
   "cell_type": "markdown",
   "metadata": {},
   "source": [
    "## retrieve weights for terms in sentence, & terms in query"
   ]
  },
  {
   "cell_type": "code",
   "execution_count": 23,
   "metadata": {},
   "outputs": [
    {
     "data": {
      "text/plain": [
       "['state', 'nation', 'disput', 'local', 'employ']"
      ]
     },
     "execution_count": 23,
     "metadata": {},
     "output_type": "execute_result"
    }
   ],
   "source": [
    "query = \"state nation disput local employ the\"\n",
    "q = preprocess(query)\n",
    "q"
   ]
  },
  {
   "cell_type": "code",
   "execution_count": 28,
   "metadata": {},
   "outputs": [],
   "source": [
    "'''\n",
    "for each sentence in sent_tokens, calculate:\n",
    "'''\n",
    "\n",
    "# of term-i in query\n",
    "q_weights = [1,4,5]\n",
    "\n",
    "# weight of term-i in doc-j\n",
    "d_weights = [23,2,3,5,.8]"
   ]
  },
  {
   "cell_type": "code",
   "execution_count": 29,
   "metadata": {},
   "outputs": [],
   "source": [
    "import numpy as np\n",
    "\n",
    "def cos_similarity(d_weights, q_weights):\n",
    "    numerator = sum([d*q for d,q in zip(d_weights, q_weights)])\n",
    "    d_norm = sum([d*d for d in d_weights])\n",
    "    q_norm = sum([q*q for q in q_weights])\n",
    "    denom = np.sqrt(d_norm * q_norm)\n",
    "    return numerator/denom"
   ]
  },
  {
   "cell_type": "code",
   "execution_count": 30,
   "metadata": {},
   "outputs": [
    {
     "data": {
      "text/plain": [
       "0.2979179636515667"
      ]
     },
     "execution_count": 30,
     "metadata": {},
     "output_type": "execute_result"
    }
   ],
   "source": [
    "'''\n",
    "Given the weights of the terms in a document, \n",
    "and the weights of the terms in a query...\n",
    "'''\n",
    "cos_similarity(d_weights, q_weights)"
   ]
  },
  {
   "cell_type": "code",
   "execution_count": null,
   "metadata": {},
   "outputs": [],
   "source": []
  }
 ],
 "metadata": {
  "kernelspec": {
   "display_name": "Python 3",
   "language": "python",
   "name": "python3"
  },
  "language_info": {
   "codemirror_mode": {
    "name": "ipython",
    "version": 3
   },
   "file_extension": ".py",
   "mimetype": "text/x-python",
   "name": "python",
   "nbconvert_exporter": "python",
   "pygments_lexer": "ipython3",
   "version": "3.7.3"
  }
 },
 "nbformat": 4,
 "nbformat_minor": 2
}

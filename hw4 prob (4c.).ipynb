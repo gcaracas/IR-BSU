{
 "cells": [
  {
   "cell_type": "markdown",
   "metadata": {},
   "source": [
    "# Problem 4c."
   ]
  },
  {
   "cell_type": "code",
   "execution_count": 4,
   "metadata": {},
   "outputs": [],
   "source": [
    "import numpy as np"
   ]
  },
  {
   "cell_type": "code",
   "execution_count": 5,
   "metadata": {},
   "outputs": [
    {
     "data": {
      "text/plain": [
       "12"
      ]
     },
     "execution_count": 5,
     "metadata": {},
     "output_type": "execute_result"
    }
   ],
   "source": [
    "d_ij = [1,3,2,2,3,1,1,2]\n",
    "n_i = [7,2,5,6,10,3,8,12]\n",
    "q_i = [1,1,2,1,2,2,3,1]\n",
    "\n",
    "N = max(n_i)\n",
    "N"
   ]
  },
  {
   "cell_type": "code",
   "execution_count": 6,
   "metadata": {},
   "outputs": [],
   "source": [
    "def cos_similarity(d_weights=[], q_weights=[]):\n",
    "    numerator = sum([d*q for d,q in zip(d_weights, q_weights)])\n",
    "    d_norm = sum([d*d for d in d_weights])\n",
    "    q_norm = sum([q*q for q in q_weights])\n",
    "    denom = np.sqrt(d_norm * q_norm)\n",
    "    return numerator/denom\n",
    "\n",
    "def TF(term_i=int, document=[]):\n",
    "    numer = document[term_i]\n",
    "    denom = max(document)\n",
    "    return numer / denom\n",
    "\n",
    "def IDF(term_i=int, n=[]):\n",
    "    v = N / n[term_i]\n",
    "    return np.log(v)\n",
    "\n",
    "def weights(n=[], document=[]):\n",
    "    weights = []\n",
    "    for index_term in range(0,len(document)):\n",
    "        tf = TF(index_term, document)\n",
    "        idf = IDF(index_term, n)\n",
    "        weights.append(tf*idf)\n",
    "    return weights"
   ]
  },
  {
   "cell_type": "code",
   "execution_count": 9,
   "metadata": {},
   "outputs": [],
   "source": [
    "q_weights = weights(n_i, q_i)\n",
    "d_weights = weights(n_i, d_ij)"
   ]
  },
  {
   "cell_type": "code",
   "execution_count": 10,
   "metadata": {},
   "outputs": [
    {
     "data": {
      "text/plain": [
       "0.7561489457055622"
      ]
     },
     "execution_count": 10,
     "metadata": {},
     "output_type": "execute_result"
    }
   ],
   "source": [
    "cos_similarity(d_weights, q_weights)"
   ]
  }
 ],
 "metadata": {
  "kernelspec": {
   "display_name": "Python 3",
   "language": "python",
   "name": "python3"
  },
  "language_info": {
   "codemirror_mode": {
    "name": "ipython",
    "version": 3
   },
   "file_extension": ".py",
   "mimetype": "text/x-python",
   "name": "python",
   "nbconvert_exporter": "python",
   "pygments_lexer": "ipython3",
   "version": "3.7.3"
  }
 },
 "nbformat": 4,
 "nbformat_minor": 2
}
